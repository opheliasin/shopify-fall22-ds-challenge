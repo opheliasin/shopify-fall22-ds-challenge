{
 "cells": [
  {
   "cell_type": "markdown",
   "id": "e9d60256",
   "metadata": {},
   "source": [
    "# Ophelia Sin's Fall 2022 Data Science Intern Challenge "
   ]
  },
  {
   "cell_type": "markdown",
   "id": "f776f805",
   "metadata": {},
   "source": [
    "# Question 1"
   ]
  },
  {
   "cell_type": "code",
   "execution_count": 2,
   "id": "7cb585bf",
   "metadata": {},
   "outputs": [],
   "source": [
    "#import libraries\n",
    "\n",
    "import pandas as pd\n",
    "import matplotlib.pyplot as plt\n",
    "import seaborn as sns"
   ]
  },
  {
   "cell_type": "code",
   "execution_count": 3,
   "id": "b42832cc",
   "metadata": {},
   "outputs": [],
   "source": [
    "#read dataset into panda dataframe\n",
    "df = pd.read_csv(\"/Users/opheliasin/shopify-fall022-ds-challenge/intern_challenge_dataset.csv\")"
   ]
  },
  {
   "cell_type": "markdown",
   "id": "6e8a9426",
   "metadata": {},
   "source": [
    "## Question 1a:"
   ]
  },
  {
   "cell_type": "markdown",
   "id": "5fe19990",
   "metadata": {},
   "source": [
    "Since the AOV is based on the column ```order amount```, I first reviewed its distribution."
   ]
  },
  {
   "cell_type": "code",
   "execution_count": 12,
   "id": "6bfa97d4",
   "metadata": {},
   "outputs": [
    {
     "data": {
      "text/plain": [
       "count      5000.000000\n",
       "mean       3145.128000\n",
       "std       41282.539349\n",
       "min          90.000000\n",
       "25%         163.000000\n",
       "50%         284.000000\n",
       "75%         390.000000\n",
       "max      704000.000000\n",
       "Name: order_amount, dtype: float64"
      ]
     },
     "execution_count": 12,
     "metadata": {},
     "output_type": "execute_result"
    }
   ],
   "source": [
    "df[\"order_amount\"].describe()"
   ]
  },
  {
   "cell_type": "code",
   "execution_count": 13,
   "id": "ef741783",
   "metadata": {},
   "outputs": [
    {
     "data": {
      "text/plain": [
       "count    5000.00000\n",
       "mean        8.78720\n",
       "std       116.32032\n",
       "min         1.00000\n",
       "25%         1.00000\n",
       "50%         2.00000\n",
       "75%         3.00000\n",
       "max      2000.00000\n",
       "Name: total_items, dtype: float64"
      ]
     },
     "execution_count": 13,
     "metadata": {},
     "output_type": "execute_result"
    }
   ],
   "source": [
    "df[\"total_items\"].describe()"
   ]
  },
  {
   "cell_type": "markdown",
   "id": "ed91517a",
   "metadata": {},
   "source": [
    "I notice that sneakers sold by some stores are also more expensive than an average pair of shoes. \n",
    "\n",
    "To further investigate the distribution, I first created a boxplot. "
   ]
  },
  {
   "cell_type": "code",
   "execution_count": 6,
   "id": "5a12bed9",
   "metadata": {
    "scrolled": true
   },
   "outputs": [
    {
     "data": {
      "image/png": "[encoded data removed]",
      "text/plain": [
       "<Figure size 432x288 with 1 Axes>"
      ]
     },
     "metadata": {
      "needs_background": "light"
     },
     "output_type": "display_data"
    }
   ],
   "source": [
    "plt.boxplot(df.order_amount)\n",
    "plt.title(\"Distribution of order_amount\")\n",
    "plt.show()"
   ]
  },
  {
   "cell_type": "markdown",
   "id": "27fffb12",
   "metadata": {},
   "source": [
    "Some orders with especially high order amounts are skewing the distribution. These orders were likely to be bulk orders or consisted of luxury sneakers that are significantly pricier than the average pair of sneakers."
   ]
  },
  {
   "cell_type": "code",
   "execution_count": 7,
   "id": "cf87d4c2",
   "metadata": {
    "scrolled": true
   },
   "outputs": [
    {
     "name": "stdout",
     "output_type": "stream",
     "text": [
      "[704000 154350 102900  77175  51450  25725   1760   1408   1086   1064\n",
      "   1056    980    965    960    948    935    920    890    885    880\n",
      "    865    845    830    816    815    810    805    804    800    790\n",
      "    786    784    780    774    772    765    760    748    745    740\n",
      "    736    735    730    725    724    712    710    708    704    692\n",
      "    684    676    672    670    665    664    660    656    655    652\n",
      "    650    648    645    644    640    632    624    620    616    612\n",
      "    603    596    592    590    588    585    584    580    579    576\n",
      "    570    568    561    560    552    544    543    536    534    532\n",
      "    531    528    524    520    519    516    513    512    508    507\n",
      "    504    498    495    492    489    488    486    483    480    474\n",
      "    472    470    468    465    464    462    459    456    450    448\n",
      "    447    444    441    438    435    432    426    420    414    408\n",
      "    404    402    399    396    393    392    390    387    386    384\n",
      "    381    380    376    374    368    366    362    360    356    354\n",
      "    352    351    348    346    344    342    338    336    333    332\n",
      "    330    328    326    324    322    320    316    312    310    308\n",
      "    306    303    298    296    294    292    290    288    284    282\n",
      "    280    276    272    270    268    266    264    262    260    258\n",
      "    256    254    244    236    234    232    228    224    222    202\n",
      "    201    196    195    193    190    188    187    184    181    180\n",
      "    178    177    176    173    172    171    169    168    166    165\n",
      "    164    163    162    161    160    158    156    155    154    153\n",
      "    149    148    147    146    145    144    142    140    138    136\n",
      "    134    133    132    131    130    129    128    127    122    118\n",
      "    117    116    114    112    111    101     94     90]\n"
     ]
    }
   ],
   "source": [
    "order_amount_array = df['order_amount'].unique()\n",
    "print(order_amount_array)"
   ]
  },
  {
   "cell_type": "markdown",
   "id": "aaf67bc8",
   "metadata": {},
   "source": [
    "In actuality, as revealed by looking at the quantiles, 75% of orders made in the 30-day period were lower than 390."
   ]
  },
  {
   "cell_type": "code",
   "execution_count": 9,
   "id": "81ef4766",
   "metadata": {},
   "outputs": [
    {
     "data": {
      "text/plain": [
       "count      5000.000000\n",
       "mean       3145.128000\n",
       "std       41282.539349\n",
       "min          90.000000\n",
       "25%         163.000000\n",
       "50%         284.000000\n",
       "75%         390.000000\n",
       "max      704000.000000\n",
       "Name: order_amount, dtype: float64"
      ]
     },
     "execution_count": 9,
     "metadata": {},
     "output_type": "execute_result"
    }
   ],
   "source": [
    "df['order_amount'].describe()"
   ]
  },
  {
   "cell_type": "markdown",
   "id": "0e275d14",
   "metadata": {},
   "source": [
    "If we look at the distribution of orders below 10000, we notice that most orders have 5 or less items and the total order value is below $1000."
   ]
  },
  {
   "cell_type": "code",
   "execution_count": 10,
   "id": "b900499a",
   "metadata": {},
   "outputs": [
    {
     "data": {
      "text/plain": [
       "<matplotlib.collections.PathCollection at 0x17cebafd0>"
      ]
     },
     "execution_count": 10,
     "metadata": {},
     "output_type": "execute_result"
    },
    {
     "data": {
      "image/png": "[encoded data removed]",
      "text/plain": [
       "<Figure size 432x288 with 1 Axes>"
      ]
     },
     "metadata": {
      "needs_background": "light"
     },
     "output_type": "display_data"
    }
   ],
   "source": [
    "orders_below_10000 = df[df.order_amount < 10000]\n",
    "plt.scatter(orders_below_10000['order_amount'], orders_below_10000['total_items'])"
   ]
  },
  {
   "cell_type": "markdown",
   "id": "fffe8796",
   "metadata": {},
   "source": [
    "If we look at AOV of orders that had an order amount below 10,000, the AOV is $302.58, which is 10 times smaller than the original AOV."
   ]
  },
  {
   "cell_type": "code",
   "execution_count": 11,
   "id": "67bce2d9",
   "metadata": {},
   "outputs": [
    {
     "name": "stdout",
     "output_type": "stream",
     "text": [
      "302.58051448247926\n"
     ]
    }
   ],
   "source": [
    "print(orders_below_10000['order_amount'].mean())"
   ]
  },
  {
   "cell_type": "markdown",
   "id": "efe82af3",
   "metadata": {},
   "source": [
    "A better way to evaluate this data is to separate large wholesale orders and luxury sneaker shop orders from the orders of average sneakers."
   ]
  },
  {
   "cell_type": "markdown",
   "id": "e4610e78",
   "metadata": {},
   "source": [
    "## Question 1b & 1c"
   ]
  },
  {
   "cell_type": "markdown",
   "id": "48464991",
   "metadata": {},
   "source": [
    "There are many metrics we can use to report this dataset. One of them is the AOV by shop."
   ]
  },
  {
   "cell_type": "code",
   "execution_count": 32,
   "id": "6f1fc93c",
   "metadata": {
    "scrolled": true
   },
   "outputs": [],
   "source": [
    "df_shop_id = df.groupby(\"shop_id\").agg({\"order_amount\":sum, \"total_items\":sum})\n",
    "order_count = df.groupby(\"shop_id\").size().reset_index(name = \"order_count\")\n",
    "df_by_shop = pd.merge(df_shop_id, order_count, how=\"outer\", on=\"shop_id\")\n",
    "df_by_shop = df_by_shop.reindex(columns=[\"shop_id\",\"order_amount\", \"total_items\", \"order_count\"])\n",
    "df_by_shop[\"AOV\"] = (df_by_shop[\"order_amount\"] / df_by_shop[\"order_count\"]).round(decimals = 2)\n",
    "df_by_shop[\"unit_price\"] = df_by_shop[\"order_amount\"] / df_by_shop[\"total_items\"]"
   ]
  },
  {
   "cell_type": "markdown",
   "id": "61937607",
   "metadata": {},
   "source": [
    "By sorting the AOV in descending order, we can observe that most shops' AOV are below 600 dollars."
   ]
  },
  {
   "cell_type": "code",
   "execution_count": 44,
   "id": "c56a81ff",
   "metadata": {
    "scrolled": false
   },
   "outputs": [
    {
     "data": {
      "text/html": [
       "<div>\n",
       "<style scoped>\n",
       "    .dataframe tbody tr th:only-of-type {\n",
       "        vertical-align: middle;\n",
       "    }\n",
       "\n",
       "    .dataframe tbody tr th {\n",
       "        vertical-align: top;\n",
       "    }\n",
       "\n",
       "    .dataframe thead th {\n",
       "        text-align: right;\n",
       "    }\n",
       "</style>\n",
       "<table border=\"1\" class=\"dataframe\">\n",
       "  <thead>\n",
       "    <tr style=\"text-align: right;\">\n",
       "      <th></th>\n",
       "      <th>shop_id</th>\n",
       "      <th>order_amount</th>\n",
       "      <th>total_items</th>\n",
       "      <th>order_count</th>\n",
       "      <th>AOV</th>\n",
       "      <th>unit_price</th>\n",
       "    </tr>\n",
       "  </thead>\n",
       "  <tbody>\n",
       "    <tr>\n",
       "      <th>41</th>\n",
       "      <td>42</td>\n",
       "      <td>11990176</td>\n",
       "      <td>34063</td>\n",
       "      <td>51</td>\n",
       "      <td>235101.49</td>\n",
       "      <td>352.0</td>\n",
       "    </tr>\n",
       "    <tr>\n",
       "      <th>77</th>\n",
       "      <td>78</td>\n",
       "      <td>2263800</td>\n",
       "      <td>88</td>\n",
       "      <td>46</td>\n",
       "      <td>49213.04</td>\n",
       "      <td>25725.0</td>\n",
       "    </tr>\n",
       "    <tr>\n",
       "      <th>49</th>\n",
       "      <td>50</td>\n",
       "      <td>17756</td>\n",
       "      <td>92</td>\n",
       "      <td>44</td>\n",
       "      <td>403.55</td>\n",
       "      <td>193.0</td>\n",
       "    </tr>\n",
       "    <tr>\n",
       "      <th>89</th>\n",
       "      <td>90</td>\n",
       "      <td>19758</td>\n",
       "      <td>111</td>\n",
       "      <td>49</td>\n",
       "      <td>403.22</td>\n",
       "      <td>178.0</td>\n",
       "    </tr>\n",
       "    <tr>\n",
       "      <th>37</th>\n",
       "      <td>38</td>\n",
       "      <td>13680</td>\n",
       "      <td>72</td>\n",
       "      <td>35</td>\n",
       "      <td>390.86</td>\n",
       "      <td>190.0</td>\n",
       "    </tr>\n",
       "  </tbody>\n",
       "</table>\n",
       "</div>"
      ],
      "text/plain": [
       "    shop_id  order_amount  total_items  order_count        AOV  unit_price\n",
       "41       42      11990176        34063           51  235101.49       352.0\n",
       "77       78       2263800           88           46   49213.04     25725.0\n",
       "49       50         17756           92           44     403.55       193.0\n",
       "89       90         19758          111           49     403.22       178.0\n",
       "37       38         13680           72           35     390.86       190.0"
      ]
     },
     "execution_count": 44,
     "metadata": {},
     "output_type": "execute_result"
    }
   ],
   "source": [
    "df_by_shop = df_by_shop.sort_values(by = [\"AOV\"], ascending = False)\n",
    "df_by_shop.head()"
   ]
  },
  {
   "cell_type": "markdown",
   "id": "eeb999e9",
   "metadata": {},
   "source": [
    "**The median of the AOV for the 100 stores is 308.99 dollars**, which is actually close to the AOV for stores that had order amounts under 10000 dollars. This indicates that the median is a better metric in this scenario because of the existence of the few outliers."
   ]
  },
  {
   "cell_type": "code",
   "execution_count": 43,
   "id": "1b15534f",
   "metadata": {},
   "outputs": [
    {
     "data": {
      "text/plain": [
       "308.89"
      ]
     },
     "execution_count": 43,
     "metadata": {},
     "output_type": "execute_result"
    }
   ],
   "source": [
    "df_by_shop[\"AOV\"].median()"
   ]
  },
  {
   "cell_type": "markdown",
   "id": "22cb1eb6",
   "metadata": {},
   "source": [
    "And if we sort by ```unit_price``` in descending order, we notice that only one store sells sneakers at an absurd amount. "
   ]
  },
  {
   "cell_type": "code",
   "execution_count": 39,
   "id": "15b4b2a5",
   "metadata": {
    "scrolled": true
   },
   "outputs": [
    {
     "data": {
      "text/html": [
       "<div>\n",
       "<style scoped>\n",
       "    .dataframe tbody tr th:only-of-type {\n",
       "        vertical-align: middle;\n",
       "    }\n",
       "\n",
       "    .dataframe tbody tr th {\n",
       "        vertical-align: top;\n",
       "    }\n",
       "\n",
       "    .dataframe thead th {\n",
       "        text-align: right;\n",
       "    }\n",
       "</style>\n",
       "<table border=\"1\" class=\"dataframe\">\n",
       "  <thead>\n",
       "    <tr style=\"text-align: right;\">\n",
       "      <th></th>\n",
       "      <th>shop_id</th>\n",
       "      <th>order_amount</th>\n",
       "      <th>total_items</th>\n",
       "      <th>order_count</th>\n",
       "      <th>AOV</th>\n",
       "      <th>unit_price</th>\n",
       "    </tr>\n",
       "  </thead>\n",
       "  <tbody>\n",
       "    <tr>\n",
       "      <th>77</th>\n",
       "      <td>78</td>\n",
       "      <td>2263800</td>\n",
       "      <td>88</td>\n",
       "      <td>46</td>\n",
       "      <td>49213.04</td>\n",
       "      <td>25725.0</td>\n",
       "    </tr>\n",
       "    <tr>\n",
       "      <th>41</th>\n",
       "      <td>42</td>\n",
       "      <td>11990176</td>\n",
       "      <td>34063</td>\n",
       "      <td>51</td>\n",
       "      <td>235101.49</td>\n",
       "      <td>352.0</td>\n",
       "    </tr>\n",
       "    <tr>\n",
       "      <th>11</th>\n",
       "      <td>12</td>\n",
       "      <td>18693</td>\n",
       "      <td>93</td>\n",
       "      <td>53</td>\n",
       "      <td>352.70</td>\n",
       "      <td>201.0</td>\n",
       "    </tr>\n",
       "    <tr>\n",
       "      <th>88</th>\n",
       "      <td>89</td>\n",
       "      <td>23128</td>\n",
       "      <td>118</td>\n",
       "      <td>61</td>\n",
       "      <td>379.15</td>\n",
       "      <td>196.0</td>\n",
       "    </tr>\n",
       "    <tr>\n",
       "      <th>98</th>\n",
       "      <td>99</td>\n",
       "      <td>18330</td>\n",
       "      <td>94</td>\n",
       "      <td>54</td>\n",
       "      <td>339.44</td>\n",
       "      <td>195.0</td>\n",
       "    </tr>\n",
       "  </tbody>\n",
       "</table>\n",
       "</div>"
      ],
      "text/plain": [
       "    shop_id  order_amount  total_items  order_count        AOV  unit_price\n",
       "77       78       2263800           88           46   49213.04     25725.0\n",
       "41       42      11990176        34063           51  235101.49       352.0\n",
       "11       12         18693           93           53     352.70       201.0\n",
       "88       89         23128          118           61     379.15       196.0\n",
       "98       99         18330           94           54     339.44       195.0"
      ]
     },
     "execution_count": 39,
     "metadata": {},
     "output_type": "execute_result"
    }
   ],
   "source": [
    "df_by_shop = df_by_shop.sort_values(by = [\"unit_price\"], ascending = False)\n",
    "df_by_shop.head()"
   ]
  },
  {
   "cell_type": "markdown",
   "id": "47821802",
   "metadata": {
    "scrolled": true
   },
   "source": [
    "The one outlier for unit price would have a huge effect on the mean. Therefore, I choose to report the median instead. The median unit price per sneaker among the 100 stores is 153 dollars. This is important because in this case we can better understand how the sneaker sellers are pricing its shoes and the type of consumers they are targeting."
   ]
  },
  {
   "cell_type": "code",
   "execution_count": 40,
   "id": "99a188e7",
   "metadata": {},
   "outputs": [
    {
     "data": {
      "text/plain": [
       "153.0"
      ]
     },
     "execution_count": 40,
     "metadata": {},
     "output_type": "execute_result"
    }
   ],
   "source": [
    "df_by_shop[\"unit_price\"].median()"
   ]
  },
  {
   "cell_type": "markdown",
   "id": "736fa70d",
   "metadata": {},
   "source": [
    "**We can also consider the daily sales.**\n",
    "First we extract the date from the ```created_at``` attribute."
   ]
  },
  {
   "cell_type": "code",
   "execution_count": 54,
   "id": "642b28c1",
   "metadata": {
    "scrolled": true
   },
   "outputs": [
    {
     "data": {
      "text/html": [
       "<div>\n",
       "<style scoped>\n",
       "    .dataframe tbody tr th:only-of-type {\n",
       "        vertical-align: middle;\n",
       "    }\n",
       "\n",
       "    .dataframe tbody tr th {\n",
       "        vertical-align: top;\n",
       "    }\n",
       "\n",
       "    .dataframe thead th {\n",
       "        text-align: right;\n",
       "    }\n",
       "</style>\n",
       "<table border=\"1\" class=\"dataframe\">\n",
       "  <thead>\n",
       "    <tr style=\"text-align: right;\">\n",
       "      <th></th>\n",
       "      <th>order_id</th>\n",
       "      <th>shop_id</th>\n",
       "      <th>user_id</th>\n",
       "      <th>order_amount</th>\n",
       "      <th>total_items</th>\n",
       "      <th>payment_method</th>\n",
       "      <th>created_at</th>\n",
       "      <th>date</th>\n",
       "    </tr>\n",
       "  </thead>\n",
       "  <tbody>\n",
       "    <tr>\n",
       "      <th>2153</th>\n",
       "      <td>2154</td>\n",
       "      <td>42</td>\n",
       "      <td>607</td>\n",
       "      <td>704000</td>\n",
       "      <td>2000</td>\n",
       "      <td>credit_card</td>\n",
       "      <td>2017-03-12 04:00:00</td>\n",
       "      <td>2017-03-12</td>\n",
       "    </tr>\n",
       "    <tr>\n",
       "      <th>3332</th>\n",
       "      <td>3333</td>\n",
       "      <td>42</td>\n",
       "      <td>607</td>\n",
       "      <td>704000</td>\n",
       "      <td>2000</td>\n",
       "      <td>credit_card</td>\n",
       "      <td>2017-03-24 04:00:00</td>\n",
       "      <td>2017-03-24</td>\n",
       "    </tr>\n",
       "    <tr>\n",
       "      <th>520</th>\n",
       "      <td>521</td>\n",
       "      <td>42</td>\n",
       "      <td>607</td>\n",
       "      <td>704000</td>\n",
       "      <td>2000</td>\n",
       "      <td>credit_card</td>\n",
       "      <td>2017-03-02 04:00:00</td>\n",
       "      <td>2017-03-02</td>\n",
       "    </tr>\n",
       "    <tr>\n",
       "      <th>1602</th>\n",
       "      <td>1603</td>\n",
       "      <td>42</td>\n",
       "      <td>607</td>\n",
       "      <td>704000</td>\n",
       "      <td>2000</td>\n",
       "      <td>credit_card</td>\n",
       "      <td>2017-03-17 04:00:00</td>\n",
       "      <td>2017-03-17</td>\n",
       "    </tr>\n",
       "    <tr>\n",
       "      <th>60</th>\n",
       "      <td>61</td>\n",
       "      <td>42</td>\n",
       "      <td>607</td>\n",
       "      <td>704000</td>\n",
       "      <td>2000</td>\n",
       "      <td>credit_card</td>\n",
       "      <td>2017-03-04 04:00:00</td>\n",
       "      <td>2017-03-04</td>\n",
       "    </tr>\n",
       "  </tbody>\n",
       "</table>\n",
       "</div>"
      ],
      "text/plain": [
       "      order_id  shop_id  user_id  order_amount  total_items payment_method  \\\n",
       "2153      2154       42      607        704000         2000    credit_card   \n",
       "3332      3333       42      607        704000         2000    credit_card   \n",
       "520        521       42      607        704000         2000    credit_card   \n",
       "1602      1603       42      607        704000         2000    credit_card   \n",
       "60          61       42      607        704000         2000    credit_card   \n",
       "\n",
       "              created_at        date  \n",
       "2153 2017-03-12 04:00:00  2017-03-12  \n",
       "3332 2017-03-24 04:00:00  2017-03-24  \n",
       "520  2017-03-02 04:00:00  2017-03-02  \n",
       "1602 2017-03-17 04:00:00  2017-03-17  \n",
       "60   2017-03-04 04:00:00  2017-03-04  "
      ]
     },
     "execution_count": 54,
     "metadata": {},
     "output_type": "execute_result"
    }
   ],
   "source": [
    "df[\"created_at\"] = pd.to_datetime(df[\"created_at\"])\n",
    "df[\"date\"] = df[\"created_at\"].dt.date\n",
    "df.head()"
   ]
  },
  {
   "cell_type": "markdown",
   "id": "cd102093",
   "metadata": {},
   "source": [
    "We then use ```group by``` and ```merge``` to find out how many orders were made and how much revenue was generated on each day."
   ]
  },
  {
   "cell_type": "code",
   "execution_count": 64,
   "id": "8aaaf81d",
   "metadata": {},
   "outputs": [
    {
     "data": {
      "text/html": [
       "<div>\n",
       "<style scoped>\n",
       "    .dataframe tbody tr th:only-of-type {\n",
       "        vertical-align: middle;\n",
       "    }\n",
       "\n",
       "    .dataframe tbody tr th {\n",
       "        vertical-align: top;\n",
       "    }\n",
       "\n",
       "    .dataframe thead th {\n",
       "        text-align: right;\n",
       "    }\n",
       "</style>\n",
       "<table border=\"1\" class=\"dataframe\">\n",
       "  <thead>\n",
       "    <tr style=\"text-align: right;\">\n",
       "      <th></th>\n",
       "      <th>date</th>\n",
       "      <th>order_amount</th>\n",
       "      <th>total_items</th>\n",
       "      <th>order_count</th>\n",
       "    </tr>\n",
       "  </thead>\n",
       "  <tbody>\n",
       "    <tr>\n",
       "      <th>0</th>\n",
       "      <td>2017-03-01</td>\n",
       "      <td>106154</td>\n",
       "      <td>359</td>\n",
       "      <td>182</td>\n",
       "    </tr>\n",
       "    <tr>\n",
       "      <th>1</th>\n",
       "      <td>2017-03-02</td>\n",
       "      <td>1588109</td>\n",
       "      <td>4351</td>\n",
       "      <td>182</td>\n",
       "    </tr>\n",
       "    <tr>\n",
       "      <th>2</th>\n",
       "      <td>2017-03-03</td>\n",
       "      <td>48729</td>\n",
       "      <td>324</td>\n",
       "      <td>162</td>\n",
       "    </tr>\n",
       "    <tr>\n",
       "      <th>3</th>\n",
       "      <td>2017-03-04</td>\n",
       "      <td>855504</td>\n",
       "      <td>2313</td>\n",
       "      <td>165</td>\n",
       "    </tr>\n",
       "    <tr>\n",
       "      <th>4</th>\n",
       "      <td>2017-03-05</td>\n",
       "      <td>126293</td>\n",
       "      <td>320</td>\n",
       "      <td>163</td>\n",
       "    </tr>\n",
       "  </tbody>\n",
       "</table>\n",
       "</div>"
      ],
      "text/plain": [
       "         date  order_amount  total_items  order_count\n",
       "0  2017-03-01        106154          359          182\n",
       "1  2017-03-02       1588109         4351          182\n",
       "2  2017-03-03         48729          324          162\n",
       "3  2017-03-04        855504         2313          165\n",
       "4  2017-03-05        126293          320          163"
      ]
     },
     "execution_count": 64,
     "metadata": {},
     "output_type": "execute_result"
    }
   ],
   "source": [
    "df_daily_sales = df.groupby(\"date\").agg({\"order_amount\":sum, \"total_items\":sum})\n",
    "daily_orders = df.groupby(\"date\").size().reset_index(name = \"order_count\")\n",
    "df_daily_sales = pd.merge(df_daily_sales, daily_orders, how=\"inner\", on=\"date\")\n",
    "df_daily_sales.head()"
   ]
  },
  {
   "cell_type": "markdown",
   "id": "ba17d3e8",
   "metadata": {},
   "source": [
    "On average, 166 orders were made per day."
   ]
  },
  {
   "cell_type": "code",
   "execution_count": 65,
   "id": "ab3a2305",
   "metadata": {
    "scrolled": true
   },
   "outputs": [
    {
     "data": {
      "text/plain": [
       "count     30.000000\n",
       "mean     166.666667\n",
       "std       15.095862\n",
       "min      143.000000\n",
       "25%      156.500000\n",
       "50%      166.000000\n",
       "75%      175.000000\n",
       "max      199.000000\n",
       "Name: order_count, dtype: float64"
      ]
     },
     "execution_count": 65,
     "metadata": {},
     "output_type": "execute_result"
    }
   ],
   "source": [
    "df_daily_sales[\"order_count\"].describe()"
   ]
  },
  {
   "cell_type": "code",
   "execution_count": 75,
   "id": "7c7db39e",
   "metadata": {
    "scrolled": true
   },
   "outputs": [
    {
     "data": {
      "image/png": "[encoded data removed]",
      "text/plain": [
       "<Figure size 360x360 with 1 Axes>"
      ]
     },
     "metadata": {
      "needs_background": "light"
     },
     "output_type": "display_data"
    }
   ],
   "source": [
    "g = sns.relplot(x=\"date\", y=\"order_count\", kind=\"line\", data=df_daily_sales)\n",
    "g.figure.autofmt_xdate()"
   ]
  },
  {
   "cell_type": "markdown",
   "id": "8e6a7abf",
   "metadata": {},
   "source": [
    "Exploring daily orders allows us to better understand consumer purchase behavior and allows us to further explore why certain days during the month experience more growth or dips. Moreover, we can also compare daily sales data from the month of March to other months to see whether the ups and downs correspond. "
   ]
  }
 ],
 "metadata": {
  "kernelspec": {
   "display_name": "venv",
   "language": "python",
   "name": "venv"
  },
  "language_info": {
   "codemirror_mode": {
    "name": "ipython",
    "version": 3
   },
   "file_extension": ".py",
   "mimetype": "text/x-python",
   "name": "python",
   "nbconvert_exporter": "python",
   "pygments_lexer": "ipython3",
   "version": "3.8.9"
  }
 },
 "nbformat": 4,
 "nbformat_minor": 5
}
